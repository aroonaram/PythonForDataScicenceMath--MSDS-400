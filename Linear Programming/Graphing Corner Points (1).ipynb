{
 "cells": [
  {
   "cell_type": "markdown",
   "metadata": {},
   "source": [
    "# Graphing Corner Points"
   ]
  },
  {
   "cell_type": "code",
   "execution_count": 1,
   "metadata": {},
   "outputs": [],
   "source": [
    "import matplotlib.pyplot as plt\n",
    "import numpy as np"
   ]
  },
  {
   "cell_type": "markdown",
   "metadata": {},
   "source": [
    "This is a minimization problem. One objective is to demonstrate plotting an \n",
    "unbounded region.  There are four inequalities: x+3y >= 15, 3x+y >= 10,\n",
    "x >= 0, y >= 0. One inequality and the objective function have been\n",
    "modified for this module. The objective function is z = 2x+3y.  The feasible\n",
    "region will be graphed and filled.  Matrix methods will be used to evaluate\n",
    "the objective function at each corner."
   ]
  },
  {
   "cell_type": "code",
   "execution_count": 11,
   "metadata": {},
   "outputs": [],
   "source": [
    "x= np.arange(0,20.1,0.1)\n",
    "y0= np.arange(0,1000.1,0.1)\n",
    "y1= 9000-3.0*x\n",
    "y2= 3000-(x*4)/3.0\n",
    "#y3 = 20+0.0*x  # The definition of y3 will allow filling the unbounded region in the plot."
   ]
  },
  {
   "cell_type": "markdown",
   "metadata": {},
   "source": [
    "The filling will be between y3 and the maximum of y1 and y2.  Need to define \n",
    "a new array y4 which will be that maximum."
   ]
  },
  {
   "cell_type": "code",
   "execution_count": 12,
   "metadata": {},
   "outputs": [],
   "source": [
    "y4 = np.maximum(y1, y2)  # Get the great of y1/y2\n",
    "#y5= 5.5-2.0*x/3.0  # This is the objective function plotted for illustration."
   ]
  },
  {
   "cell_type": "code",
   "execution_count": 15,
   "metadata": {},
   "outputs": [
    {
     "data": {
      "image/png": "[encoded data removed]",
      "text/plain": [
       "<Figure size 432x288 with 1 Axes>"
      ]
     },
     "metadata": {
      "needs_background": "light"
     },
     "output_type": "display_data"
    }
   ],
   "source": [
    "plt.xlim(0,20)\n",
    "plt.ylim(0,9000)\n",
    "plt.xlabel('x-axis')\n",
    "plt.ylabel('y-axis')\n",
    "plt.title('Shaded Area Shows the Feasible Region')\n",
    "plt.plot(x,y2,color='b', label='x+3y >= 15')\n",
    "plt.plot(x,y1,color='r', label='3x+y >= 10')\n",
    "#plt.plot(x,y5,'k--', label='16.5 = 2x+3y')\n",
    "plt.legend()\n",
    "plt.fill_between(x,y3,y4, color='grey',alpha=0.2)\n",
    "plt.show()"
   ]
  },
  {
   "cell_type": "markdown",
   "metadata": {},
   "source": [
    "Corner points for evaluation using the objective function."
   ]
  },
  {
   "cell_type": "code",
   "execution_count": 5,
   "metadata": {},
   "outputs": [],
   "source": [
    "x= [0, 1.5, 15]\n",
    "y= [10, 4.5, 0]"
   ]
  },
  {
   "cell_type": "markdown",
   "metadata": {},
   "source": [
    "This next step shows how to use matrix calculations to evaluate\n",
    "the objective function at each corner point and find the maximum."
   ]
  },
  {
   "cell_type": "code",
   "execution_count": 6,
   "metadata": {},
   "outputs": [
    {
     "name": "stdout",
     "output_type": "stream",
     "text": [
      "Value of Objective Function at Each Corner Point\n",
      " [[30. ]\n",
      " [16.5]\n",
      " [30. ]]\n"
     ]
    }
   ],
   "source": [
    "obj = np.matrix([2.0,3.0])\n",
    "obj = np.transpose(obj)\n",
    "corners = np.matrix([x,y])\n",
    "corners = np.transpose(corners)\n",
    "result = np.dot(corners,obj)\n",
    "print('Value of Objective Function at Each Corner Point\\n', result)"
   ]
  },
  {
   "cell_type": "markdown",
   "metadata": {},
   "source": [
    "### Practice\n",
    "\n",
    "Exercise: Using the matrix methods shown above, verify the calculations\n",
    "in Lial Section 4.3 Example 1.  Compare your code to the answer sheet.   "
   ]
  }
 ],
 "metadata": {
  "kernelspec": {
   "display_name": "Python 3",
   "language": "python",
   "name": "python3"
  },
  "language_info": {
   "codemirror_mode": {
    "name": "ipython",
    "version": 3
   },
   "file_extension": ".py",
   "mimetype": "text/x-python",
   "name": "python",
   "nbconvert_exporter": "python",
   "pygments_lexer": "ipython3",
   "version": "3.7.3"
  }
 },
 "nbformat": 4,
 "nbformat_minor": 2
}
