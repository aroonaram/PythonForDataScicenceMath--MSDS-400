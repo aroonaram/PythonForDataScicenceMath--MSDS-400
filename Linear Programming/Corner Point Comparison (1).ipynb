{
 "cells": [
  {
   "cell_type": "markdown",
   "metadata": {},
   "source": [
    "# Corner Points Comparison"
   ]
  },
  {
   "cell_type": "code",
   "execution_count": 12,
   "metadata": {},
   "outputs": [
    {
     "data": {
      "text/plain": [
       "2666.6666666666665"
      ]
     },
     "execution_count": 12,
     "metadata": {},
     "output_type": "execute_result"
    }
   ],
   "source": [
    "8000/3"
   ]
  },
  {
   "cell_type": "code",
   "execution_count": 2,
   "metadata": {},
   "outputs": [],
   "source": [
    "import matplotlib.pyplot \n",
    "from matplotlib.pyplot import *\n",
    "import numpy\n",
    "from numpy import *"
   ]
  },
  {
   "cell_type": "markdown",
   "metadata": {},
   "source": [
    "This demonstration is from Lial Chapter 3 Section 3.2 Example 1.\n",
    "An additional constraint will be added to the example, but the final \n",
    "solution will be the same. There are five inequalities: 2x+y <= 4, \n",
    "-x+2y <= 4, x <= 1.5, x >= 0, y >= 0. The objective function is z = 3x+4y.\n",
    "The feasible region will be graphed and filled.  Matrix methods will be\n",
    "used to evaluate the objective function at each corner.  The goal is to\n",
    "maximize the objective function."
   ]
  },
  {
   "cell_type": "code",
   "execution_count": 10,
   "metadata": {},
   "outputs": [],
   "source": [
    "x=arange(0,4.1,0.1)\n",
    "y0=arange(0,4.1,0.1)\n",
    "y1= 9000.0-3.0*x\n",
    "y2= 3000.0+1.33*x\n",
    "y= 3-.75*x"
   ]
  },
  {
   "cell_type": "markdown",
   "metadata": {},
   "source": [
    "The variable x1 may seem odd, but this is one way to code and plot a vertical \n",
    "line at x=1.5.  This is necessary since arange() produces a list with\n",
    "a defined number of elements.  x1 must have the same number of elements as \n",
    "the other variables so that it may be plotted.\n",
    "\n",
    "The order of entry of labels in the legend statement must follow\n",
    "the order of the plot statements to match colors.  The word 'best'\n",
    "allows the computer to pick the optimum location for the legend.\n",
    "\n",
    "This next step shows how to plot a line using different symbols."
   ]
  },
  {
   "cell_type": "code",
   "execution_count": 11,
   "metadata": {},
   "outputs": [
    {
     "data": {
      "image/png": "[encoded data removed]",
      "text/plain": [
       "<Figure size 432x288 with 1 Axes>"
      ]
     },
     "metadata": {
      "needs_background": "light"
     },
     "output_type": "display_data"
    }
   ],
   "source": [
    "x1= 1.5+0.0*y0\n",
    "# Plot limits must be set for the graph.\n",
    "xlim(0,4)\n",
    "ylim(0,4)\n",
    "# Plot axes need to be labled,title specified and legend shown.\n",
    "xlabel('x-axis')\n",
    "ylabel('y-axis')\n",
    "title('Shaded Area Shows the Feasible Region')\n",
    "\n",
    "plot(x,y2,'b', label='-x+2y <= 4')\n",
    "plot(x,y1,'r', label='2x+y <= 4')\n",
    "plot(x1,y0,'g', label='x=1.5')\n",
    "plot(x,y,'k--', label='12 = 3x+4y')  # The dashed black line represents the objective function.\n",
    "legend()\n",
    "\n",
    "x= [0, 0, .8, 1.5, 1.5]\n",
    "y= [0, 2.0, 2.4, 1.0, 0]\n",
    "# Matplotlib will fill irregular polygons if the corner points are given.\n",
    "# Different colors are possible.  Alpha controls the level of darkness.\n",
    "fill(x,y, color='grey', alpha=0.2)\n",
    "show()"
   ]
  },
  {
   "cell_type": "markdown",
   "metadata": {},
   "source": [
    "This next step shows how to use matrix calculations to evaluate\n",
    "the objective function at each corner point and find the maximum."
   ]
  },
  {
   "cell_type": "code",
   "execution_count": 9,
   "metadata": {},
   "outputs": [
    {
     "name": "stdout",
     "output_type": "stream",
     "text": [
      "Value of Objective Function at Each Corner Point:\n",
      " [[ 0. ]\n",
      " [ 8. ]\n",
      " [12. ]\n",
      " [ 8.5]\n",
      " [ 4.5]]\n"
     ]
    }
   ],
   "source": [
    "obj= matrix([3.0,4.0])\n",
    "obj= transpose(obj)\n",
    "corners= matrix([x,y])\n",
    "corners= transpose(corners)\n",
    "result= dot(corners,obj)\n",
    "print ('Value of Objective Function at Each Corner Point:\\n', result)"
   ]
  },
  {
   "cell_type": "markdown",
   "metadata": {},
   "source": [
    "### Practice\n",
    "Exercise:  Refer to Lial Section 3.2 Example 3.  Using matrix methods  \n",
    "evaluate the objective function at each corner point and determine both\n",
    "the maximum and the minimum.  Compare your code and solutions with the \n",
    "answer sheet. "
   ]
  }
 ],
 "metadata": {
  "kernelspec": {
   "display_name": "Python 3",
   "language": "python",
   "name": "python3"
  },
  "language_info": {
   "codemirror_mode": {
    "name": "ipython",
    "version": 3
   },
   "file_extension": ".py",
   "mimetype": "text/x-python",
   "name": "python",
   "nbconvert_exporter": "python",
   "pygments_lexer": "ipython3",
   "version": "3.7.3"
  }
 },
 "nbformat": 4,
 "nbformat_minor": 2
}
