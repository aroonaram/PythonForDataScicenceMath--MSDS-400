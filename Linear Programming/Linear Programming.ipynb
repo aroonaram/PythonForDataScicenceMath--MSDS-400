{
 "cells": [
  {
   "cell_type": "markdown",
   "metadata": {},
   "source": [
    "MINIMISE ; check how the inequalities are >="
   ]
  },
  {
   "cell_type": "code",
   "execution_count": 1,
   "metadata": {},
   "outputs": [
    {
     "name": "stdout",
     "output_type": "stream",
     "text": [
      "Pulp Solutions for y1 and y2\n",
      "6.0\n",
      "12.0\n",
      "22.0\n"
     ]
    }
   ],
   "source": [
    "from pulp import LpVariable, LpProblem, LpMaximize, LpStatus, value, LpMinimize\n",
    "\n",
    "# declare your variables\n",
    "y1 = LpVariable(\"y1\", 0, None) # y1>=0\n",
    "y2 = LpVariable(\"y2\", 0, None) # y2>=0\n",
    "#y3 = LpVariable(\"y3\", 0, None) # y2>=0\n",
    "\n",
    "# defines the problem\n",
    "prob = LpProblem(\"problem\", LpMinimize)\n",
    "# defines the constraints\n",
    "prob += 2*y2 >= 6\n",
    "prob += 3*y1 + 2*y2 >= 12\n",
    "prob += y1>=6\n",
    "prob += y2>=12\n",
    "prob += y3<=22\n",
    "\n",
    "\n",
    "# defines the objective function to minimize\n",
    "prob += 20*y1 +50*y2 \n",
    "# solve the problem\n",
    "status = prob.solve()\n",
    "LpStatus[status]\n",
    "# print the results\n",
    "print(\"Pulp Solutions for y1 and y2\")\n",
    "print(value(y1))\n",
    "print(value(y2))\n",
    "print(value(y3))\n"
   ]
  },
  {
   "cell_type": "markdown",
   "metadata": {},
   "source": [
    "MINIMISE ; check how the inequalities are <="
   ]
  },
  {
   "cell_type": "code",
   "execution_count": null,
   "metadata": {},
   "outputs": [],
   "source": [
    "#As part of a weight reduction​ program, a man designs a monthly exercise program consisting of​\n",
    "#bicycling, jogging, and swimming. He would like to exercise at most 30 ​\n",
    "#hours, devote at most 4 hours to​ swimming, and jog for no more than the total number of hours bicycling and swimming. \n",
    "#The calories burned by this person per hour by​ bicycling, jogging, and swimming are​ 200, 578​, and 252​, respectively.\n",
    "#How many hours should be allotted to each activity to maximize the number of calories​ burned? \n",
    "#What is the maximum number of calories he will​ burn?\n",
    "#(Hint: Write the constraint involving jogging in the form less than or equals​0.)\n",
    "\n",
    "from pulp import LpVariable, LpProblem, LpMaximize, LpStatus, value, LpMinimize\n",
    "\n",
    "# declare your variables\n",
    "y1 = LpVariable(\"y1\", 0, None) # y1>=0\n",
    "y2 = LpVariable(\"y2\", 0, None) # y2>=0\n",
    "#y3 = LpVariable(\"y3\", 0, None) # y2>=0\n",
    "\n",
    "# defines the problem\n",
    "prob = LpProblem(\"problem\", LpMaximize)\n",
    "# defines the constraints\n",
    "prob += y3 <= 4\n",
    "prob += y1 + y2+ y3 <= 30\n",
    "prob += y1 + y3 >= y2\n",
    "#prob += 110*y1 + 44*y2 >= 1500\n",
    "\n",
    "\n",
    "# defines the objective function to maximize\n",
    "prob += 200*y1 +578*y2 + 252*y3\n",
    "# solve the problem\n",
    "status = prob.solve()\n",
    "LpStatus[status]\n",
    "# print the results\n",
    "print(\"Pulp Solutions for y1 and y2\")\n",
    "print(value(y1))\n",
    "print(value(y2))\n",
    "print(value(y3))\n"
   ]
  },
  {
   "cell_type": "code",
   "execution_count": 22,
   "metadata": {},
   "outputs": [
    {
     "data": {
      "text/plain": [
       "11878"
      ]
     },
     "execution_count": 22,
     "metadata": {},
     "output_type": "execute_result"
    }
   ],
   "source": [
    "200*11+15*578+4*252"
   ]
  },
  {
   "cell_type": "code",
   "execution_count": 34,
   "metadata": {},
   "outputs": [
    {
     "name": "stdout",
     "output_type": "stream",
     "text": [
      "Pulp Solutions for y1 and y2\n",
      "2000.0\n",
      "2400.0\n",
      "3600.0\n"
     ]
    }
   ],
   "source": [
    "\n",
    "from pulp import LpVariable, LpProblem, LpMaximize, LpStatus, value, LpMinimize\n",
    "\n",
    "# declare your variables\n",
    "y1 = LpVariable(\"y1\", 0, None) # y1>=0\n",
    "y2 = LpVariable(\"y2\", 0, None) # y2>=0\n",
    "y3 = LpVariable(\"y3\", 0, None) # y2>=0\n",
    "\n",
    "# defines the problem\n",
    "prob = LpProblem(\"problem\", LpMinimize)\n",
    "# defines the constraints\n",
    "prob += y1 >= 2000\n",
    "prob += y2  >= (2/3)*y3\n",
    "prob += y1 + y2 + y3 >= 8000\n",
    "\n",
    "\n",
    "# defines the objective function to minimize\n",
    "prob += 11*y1 +14*y2 + 6*y3\n",
    "# solve the problem\n",
    "status = prob.solve()\n",
    "LpStatus[status]\n",
    "# print the results\n",
    "print(\"Pulp Solutions for y1 and y2\")\n",
    "print(value(y1))\n",
    "print(value(y2))\n",
    "print(value(y3))\n"
   ]
  },
  {
   "cell_type": "code",
   "execution_count": 35,
   "metadata": {},
   "outputs": [
    {
     "data": {
      "text/plain": [
       "77200"
      ]
     },
     "execution_count": 35,
     "metadata": {},
     "output_type": "execute_result"
    }
   ],
   "source": [
    "11*2000 +14*2400 + 6*3600"
   ]
  },
  {
   "cell_type": "code",
   "execution_count": 38,
   "metadata": {},
   "outputs": [
    {
     "data": {
      "text/plain": [
       "0.014700597055929071"
      ]
     },
     "execution_count": 38,
     "metadata": {},
     "output_type": "execute_result"
    }
   ],
   "source": [
    "(1/2)*((5/9)**6)"
   ]
  },
  {
   "cell_type": "code",
   "execution_count": 43,
   "metadata": {},
   "outputs": [
    {
     "data": {
      "text/plain": [
       "0.9578723294344764"
      ]
     },
     "execution_count": 43,
     "metadata": {},
     "output_type": "execute_result"
    }
   ],
   "source": [
    "((1/2)*((4/9)**31)*(5/9)**45)/(((1/2)*((4/9)**31)*(5/9)**45)+ ((1/2)*((5/9)**31)*(4/9)**45))"
   ]
  },
  {
   "cell_type": "code",
   "execution_count": null,
   "metadata": {},
   "outputs": [],
   "source": []
  }
 ],
 "metadata": {
  "kernelspec": {
   "display_name": "Python 3",
   "language": "python",
   "name": "python3"
  },
  "language_info": {
   "codemirror_mode": {
    "name": "ipython",
    "version": 3
   },
   "file_extension": ".py",
   "mimetype": "text/x-python",
   "name": "python",
   "nbconvert_exporter": "python",
   "pygments_lexer": "ipython3",
   "version": "3.7.3"
  }
 },
 "nbformat": 4,
 "nbformat_minor": 2
}
