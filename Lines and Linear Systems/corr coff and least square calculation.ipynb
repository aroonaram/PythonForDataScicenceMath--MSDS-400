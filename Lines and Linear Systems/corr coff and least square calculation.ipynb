{
 "cells": [
  {
   "cell_type": "markdown",
   "metadata": {},
   "source": [
    "<img src=\"files/corr_coff.png\">"
   ]
  },
  {
   "cell_type": "code",
   "execution_count": 100,
   "metadata": {},
   "outputs": [],
   "source": [
    "#SUM of x and SUM of Y ; sum of x^2 , (sum of x)^2 and sum y^2 , (sum y)^2\n",
    "import numpy as np\n",
    "n = 10\n",
    "x=[1,2,3,4,5,6,7,8,9,10]\n",
    "\n",
    "y = [0.1,0.6,1.1,2.1,2.6,3.1,3.1,4.1,4.6,5.1]\n",
    "\n",
    "sum_x = sum(x) # sum of x\n",
    "sum_y = sum(y) # sum of y\n",
    "x_y = np.multiply(x, y) # xy \n",
    "sum_x_y= sum(x_y) # sum of xy\n",
    "x2 = np.multiply(x, x) # x*x\n",
    "sum_x2 = sum(x2)\n",
    "y2 = np.multiply(y, y) # y*y\n",
    "sum_y2 = sum(y2)\n",
    "sum_xandSq = sum_x * sum_x\n",
    "sum_yandSq = sum_y * sum_y\n"
   ]
  },
  {
   "cell_type": "code",
   "execution_count": 101,
   "metadata": {},
   "outputs": [
    {
     "data": {
      "text/plain": [
       "0.993"
      ]
     },
     "execution_count": 101,
     "metadata": {},
     "output_type": "execute_result"
    }
   ],
   "source": [
    "n=10 \n",
    "#sum_x=55 \n",
    "#sum_y=26.5\n",
    "#sum_x_y=191.5\n",
    "#sum_x2=385\n",
    "#sum_y2=95.94999999999999\n",
    "r=((n*sum_x2-sum_x*sum_x)*(n*sum_y2-sum_y*sum_y))**0.5 \n",
    "r=(n*sum_x_y-sum_x*sum_y)/r \n",
    "r \n",
    "r1= round(r,3)\n",
    "r1"
   ]
  },
  {
   "cell_type": "markdown",
   "metadata": {},
   "source": [
    "PRINT"
   ]
  },
  {
   "cell_type": "code",
   "execution_count": 92,
   "metadata": {},
   "outputs": [
    {
     "name": "stdout",
     "output_type": "stream",
     "text": [
      "corr 0.9930850234339881 0.993\n",
      "sum of x =  55\n",
      "sum of y =  26.5\n",
      "sum of xy =  191.5\n",
      "sum of sum_x2 =  385\n",
      "sum of sum_xandSq =  3025\n",
      "sum of sum_y2 =  95.94999999999999\n",
      "sum of sum_yandSq =  702.25\n"
     ]
    }
   ],
   "source": [
    "print (\"corr\",r,r1)\n",
    "print (\"sum of x = \",sum(x))\n",
    "print (\"sum of y = \",sum(y))\n",
    "print (\"sum of xy = \",sum(x_y))\n",
    "print (\"sum of sum_x2 = \",sum_x2)\n",
    "print (\"sum of sum_xandSq = \",sum_xandSq)\n",
    "print (\"sum of sum_y2 = \",sum_y2)\n",
    "print (\"sum of sum_yandSq = \",sum_yandSq)"
   ]
  },
  {
   "cell_type": "code",
   "execution_count": 104,
   "metadata": {},
   "outputs": [
    {
     "name": "stdout",
     "output_type": "stream",
     "text": [
      "round of m to hundered 0.55\n",
      "b -0.4\n"
     ]
    }
   ],
   "source": [
    "# y = mx+b\n",
    "m1= (n*sum_x_y-sum_x*sum_y)\n",
    "m2= (n*sum_x2-sum_x*sum_x)\n",
    "m = m1/m2\n",
    "mround = round(m,2)\n",
    "b = (sum_y -(m*sum_x))/n\n",
    "print ( \"round of m to hundered\", round(m,2))\n",
    "print ( \"b\", b)\n"
   ]
  },
  {
   "cell_type": "code",
   "execution_count": 105,
   "metadata": {},
   "outputs": [
    {
     "data": {
      "text/plain": [
       "5.65"
      ]
     },
     "execution_count": 105,
     "metadata": {},
     "output_type": "execute_result"
    }
   ],
   "source": [
    "# y value # y = mx+b # y = x*0.55 -0.4\n",
    "value_y = (mround*11)+b\n",
    "value_y"
   ]
  },
  {
   "cell_type": "code",
   "execution_count": null,
   "metadata": {},
   "outputs": [],
   "source": []
  }
 ],
 "metadata": {
  "kernelspec": {
   "display_name": "Python 3",
   "language": "python",
   "name": "python3"
  },
  "language_info": {
   "codemirror_mode": {
    "name": "ipython",
    "version": 3
   },
   "file_extension": ".py",
   "mimetype": "text/x-python",
   "name": "python",
   "nbconvert_exporter": "python",
   "pygments_lexer": "ipython3",
   "version": "3.7.3"
  }
 },
 "nbformat": 4,
 "nbformat_minor": 2
}
