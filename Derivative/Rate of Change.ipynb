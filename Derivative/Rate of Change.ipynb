{
 "cells": [
  {
   "cell_type": "markdown",
   "metadata": {},
   "source": [
    "# Rate of Change"
   ]
  },
  {
   "cell_type": "code",
   "execution_count": 2,
   "metadata": {},
   "outputs": [],
   "source": [
    "import numpy \n",
    "from numpy import arange, cos\n",
    "import matplotlib.pyplot \n",
    "from matplotlib.pyplot import *"
   ]
  },
  {
   "cell_type": "markdown",
   "metadata": {},
   "source": [
    "A general function for calculating the slope between two points: x and \n",
    "x+delta.  See Lial Section 11.3 dealing with instantaneous rates of change."
   ]
  },
  {
   "cell_type": "code",
   "execution_count": 3,
   "metadata": {},
   "outputs": [],
   "source": [
    "def der(x, delta):\n",
    "    delta = float(delta)\n",
    "    if delta < 0.0000001:\n",
    "        print('Value chosen for delta is too small.')\n",
    "        return 1 / delta\n",
    "    else:\n",
    "        slope = (f(x + delta) - f(x)) / delta \n",
    "        return slope"
   ]
  },
  {
   "cell_type": "markdown",
   "metadata": {},
   "source": [
    "Define a function for demonstration.  This function may be changed."
   ]
  },
  {
   "cell_type": "code",
   "execution_count": 4,
   "metadata": {},
   "outputs": [],
   "source": [
    "def f(x):\n",
    "    f = cos(x)    \n",
    "    return f\n",
    "\n",
    "# The following statements initialize variables for computation.\n",
    "point = 1.0  #This is a point at which a derivative will be calculated.\n",
    "number = 510\n",
    "increment =10\n",
    "y = []\n",
    "x = []"
   ]
  },
  {
   "cell_type": "markdown",
   "metadata": {},
   "source": [
    "What follows shows calculations and list manipulations. Recall that a range\n",
    "statement is inclusive of the first number and exclusive of the last.  In this\n",
    "example we are incrementing by units of 10 from 1 to 500.  We are reducing\n",
    "the distance between x=1.0 and x=1.0+delta by reducing delta.  The slopes\n",
    "being calculated are stored in the list y."
   ]
  },
  {
   "cell_type": "code",
   "execution_count": 5,
   "metadata": {},
   "outputs": [
    {
     "name": "stdout",
     "output_type": "stream",
     "text": [
      "Final value equals\n"
     ]
    },
    {
     "data": {
      "text/plain": [
       "-0.8414712548976411"
      ]
     },
     "execution_count": 5,
     "metadata": {},
     "output_type": "execute_result"
    }
   ],
   "source": [
    "for k in range(increment, number, increment):\n",
    "    delta = 1.0/(k+1)\n",
    "    d = der(point,delta)\n",
    "    x = x + [k]\n",
    "    y = y + [d]\n",
    "    max_x = k + increment\n",
    "\n",
    "limit=der(point,0.000001)    \n",
    "print ('Final value equals')\n",
    "limit"
   ]
  },
  {
   "cell_type": "markdown",
   "metadata": {},
   "source": [
    "The plot shows convergence of the slopes to the instantaneous rate of change. \n",
    "Black dots mark computed slopes as delta was reduced.  The x-axis is plotted\n",
    "using values of k from the range statement in the for loop."
   ]
  },
  {
   "cell_type": "code",
   "execution_count": 6,
   "metadata": {},
   "outputs": [
    {
     "data": {
      "image/png": "[encoded data removed]",
      "text/plain": [
       "<Figure size 432x288 with 1 Axes>"
      ]
     },
     "metadata": {
      "needs_background": "light"
     },
     "output_type": "display_data"
    }
   ],
   "source": [
    "figure()\n",
    "xlim(0, max_x+50 )\n",
    "ylim(min(y)-0.05, max(y)+0.05)\n",
    "\n",
    "scatter(540,limit,color='g',s=40,label='limiting slope')\n",
    "legend(('limiting slope'),loc='best')\n",
    "scatter(x,y,c='k',s=20)\n",
    "\n",
    "title ('Example of Convergence to Instanteous Rate of Change')\n",
    "xlabel('x-axis')\n",
    "ylabel('y-axis')\n",
    "ylabel('y-axis')\n",
    "plot(x,y)\n",
    "show()"
   ]
  },
  {
   "cell_type": "markdown",
   "metadata": {},
   "source": [
    "The next section will show the tangent line at the point x=1.0.\n",
    "We are using the equation for a straight line y=mx+b where the slope is\n",
    "y[-1] from above and the point given above is x=1.0.  We are only going \n",
    "to plot this tangent line over a limited distance given by w defined below."
   ]
  },
  {
   "cell_type": "code",
   "execution_count": 7,
   "metadata": {},
   "outputs": [],
   "source": [
    "# Calculate values for the tangent.\n",
    "w=arange(point-1.0,point+1.1,0.1)\n",
    "t=f(point)+limit*(w-point)\n",
    "\n",
    "# Now we are going to plot the original function over a wider range.\n",
    "# Define a domain for the function.\n",
    "domain=3.14\n",
    "\n",
    "# Calculate values for the function on both sides of x=1.0.\n",
    "u=arange(point-domain,point+domain+0.1,0.1)\n",
    "z=f(u)"
   ]
  },
  {
   "cell_type": "markdown",
   "metadata": {},
   "source": [
    "This allows us to plot in layers showing the tangent and the function.\n",
    "The scatter command allows a single point to be plotted."
   ]
  },
  {
   "cell_type": "code",
   "execution_count": 8,
   "metadata": {},
   "outputs": [
    {
     "data": {
      "image/png": "[encoded data removed]",
      "text/plain": [
       "<matplotlib.figure.Figure at 0x10e95f3c8>"
      ]
     },
     "metadata": {},
     "output_type": "display_data"
    }
   ],
   "source": [
    "figure()\n",
    "xlim(point-domain-.1,point+domain+0.1)\n",
    "ylim(max(z)+.5,min(z)-.5)\n",
    "\n",
    "plot(w,t,c='r')  # This plots the tangent line.\n",
    "plot(u,z,c='b')  # This plots the curve itself.\n",
    "scatter(point,f(point),c='g',s=40)  # This is the point of contact.\n",
    "xlabel('x-axis')\n",
    "ylabel('y-axis')\n",
    "title('Plot showing function and tangent at a point')\n",
    "show()"
   ]
  },
  {
   "cell_type": "markdown",
   "metadata": {},
   "source": [
    "### Practice\n",
    "Exercise #1:  Refer to Lial Section 11.3 Examples 3-5.  Using the function \n",
    "der() as defined, calculate approximate slopes for the functions given in \n",
    "Lial Section 11.3 Examples 3(b), 4(c), & 5.  Use a small value for delta and \n",
    "evaluate der() at the points used in the examples. Round to 4 decimal places.\n",
    "\n",
    "Exercise #2: Refer to Lial 11.1 Example 1.  This was used in Session 6 \n",
    "Module1. The solution code is presented in the answer sheet.  Modify the code\n",
    "so that the tangent line at x=2 appears on the preceeding plot.  This \n",
    "necessitates determining the linear equation for the tangent line using\n",
    "y=mx+b and writing the statements to plot this line on the existing plot.\n",
    "Use arange()."
   ]
  },
  {
   "cell_type": "code",
   "execution_count": 10,
   "metadata": {},
   "outputs": [
    {
     "data": {
      "image/png": "[encoded data removed]",
      "text/plain": [
       "<Figure size 432x288 with 1 Axes>"
      ]
     },
     "metadata": {
      "needs_background": "light"
     },
     "output_type": "display_data"
    }
   ],
   "source": [
    "figure()\n",
    "xlim(point-domain-1,point+domain+1)\n",
    "ylim(max(z)+1,min(z)-1)\n",
    "\n",
    "plot(w,t,c='r')  # This plots the tangent line.\n",
    "plot(u,z,c='b')  # This plots the curve itself.\n",
    "scatter(point,f(point),c='g',s=40)  # This is the point of contact.\n",
    "xlabel('x-axis')\n",
    "ylabel('y-axis')\n",
    "title('Plot showing function and tangent at a point')\n",
    "show()"
   ]
  },
  {
   "cell_type": "code",
   "execution_count": 13,
   "metadata": {},
   "outputs": [
    {
     "data": {
      "text/plain": [
       "25.80263157894737"
      ]
     },
     "execution_count": 13,
     "metadata": {},
     "output_type": "execute_result"
    }
   ],
   "source": [
    "(703*(132))/ (76*76)\n"
   ]
  },
  {
   "cell_type": "code",
   "execution_count": 14,
   "metadata": {},
   "outputs": [
    {
     "data": {
      "text/plain": [
       "207.87027027027028"
      ]
     },
     "execution_count": 14,
     "metadata": {},
     "output_type": "execute_result"
    }
   ],
   "source": [
    "(76*76*25.3)/703"
   ]
  },
  {
   "cell_type": "code",
   "execution_count": 15,
   "metadata": {},
   "outputs": [
    {
     "data": {
      "text/plain": [
       "4"
      ]
     },
     "execution_count": 15,
     "metadata": {},
     "output_type": "execute_result"
    }
   ],
   "source": [
    "212-208"
   ]
  },
  {
   "cell_type": "code",
   "execution_count": 16,
   "metadata": {},
   "outputs": [
    {
     "data": {
      "text/plain": [
       "92796"
      ]
     },
     "execution_count": 16,
     "metadata": {},
     "output_type": "execute_result"
    }
   ],
   "source": [
    "703*132"
   ]
  },
  {
   "cell_type": "code",
   "execution_count": 23,
   "metadata": {},
   "outputs": [
    {
     "data": {
      "text/plain": [
       "257"
      ]
     },
     "execution_count": 23,
     "metadata": {},
     "output_type": "execute_result"
    }
   ],
   "source": [
    "38*7 -9"
   ]
  },
  {
   "cell_type": "markdown",
   "metadata": {},
   "source": [
    "# round(-185592/(64*64*64),2)  x:2/2(1-x)"
   ]
  },
  {
   "cell_type": "code",
   "execution_count": 35,
   "metadata": {},
   "outputs": [
    {
     "data": {
      "text/plain": [
       "2.01"
      ]
     },
     "execution_count": 35,
     "metadata": {},
     "output_type": "execute_result"
    }
   ],
   "source": [
    "round((((2*30) -5 )/(((3*30)+1)*30))*100,2)\n",
    "\n"
   ]
  },
  {
   "cell_type": "code",
   "execution_count": 59,
   "metadata": {},
   "outputs": [
    {
     "data": {
      "text/plain": [
       "0.26562500000000006"
      ]
     },
     "execution_count": 59,
     "metadata": {},
     "output_type": "execute_result"
    }
   ],
   "source": [
    "((2*(0.8)*0.4) - (0.04 *(-1) )) /2.56"
   ]
  },
  {
   "cell_type": "code",
   "execution_count": 58,
   "metadata": {},
   "outputs": [
    {
     "data": {
      "text/plain": [
       "2.5600000000000005"
      ]
     },
     "execution_count": 58,
     "metadata": {},
     "output_type": "execute_result"
    }
   ],
   "source": [
    "1.6 *1.6"
   ]
  },
  {
   "cell_type": "code",
   "execution_count": 52,
   "metadata": {},
   "outputs": [
    {
     "data": {
      "text/plain": [
       "0.04000000000000001"
      ]
     },
     "execution_count": 52,
     "metadata": {},
     "output_type": "execute_result"
    }
   ],
   "source": [
    "0.2*0.2"
   ]
  },
  {
   "cell_type": "code",
   "execution_count": null,
   "metadata": {},
   "outputs": [],
   "source": []
  }
 ],
 "metadata": {
  "kernelspec": {
   "display_name": "Python 3",
   "language": "python",
   "name": "python3"
  },
  "language_info": {
   "codemirror_mode": {
    "name": "ipython",
    "version": 3
   },
   "file_extension": ".py",
   "mimetype": "text/x-python",
   "name": "python",
   "nbconvert_exporter": "python",
   "pygments_lexer": "ipython3",
   "version": "3.7.3"
  }
 },
 "nbformat": 4,
 "nbformat_minor": 2
}
